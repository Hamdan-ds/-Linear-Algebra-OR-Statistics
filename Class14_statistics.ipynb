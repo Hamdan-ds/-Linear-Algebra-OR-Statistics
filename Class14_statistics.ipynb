{
 "cells": [
  {
   "cell_type": "code",
   "execution_count": 1,
   "id": "eb93c2f2-1873-4b0b-9afe-27f7872a5a5a",
   "metadata": {},
   "outputs": [],
   "source": [
    "import pandas as pd\n",
    "import numpy as np\n",
    "from scipy import stats\n",
    "import seaborn as sns\n",
    "import matplotlib.pyplot as plt"
   ]
  },
  {
   "cell_type": "code",
   "execution_count": 2,
   "id": "feffae7b-9c66-4637-9f6f-9fe50b0fcbb5",
   "metadata": {},
   "outputs": [
    {
     "data": {
      "text/html": [
       "<div>\n",
       "<style scoped>\n",
       "    .dataframe tbody tr th:only-of-type {\n",
       "        vertical-align: middle;\n",
       "    }\n",
       "\n",
       "    .dataframe tbody tr th {\n",
       "        vertical-align: top;\n",
       "    }\n",
       "\n",
       "    .dataframe thead th {\n",
       "        text-align: right;\n",
       "    }\n",
       "</style>\n",
       "<table border=\"1\" class=\"dataframe\">\n",
       "  <thead>\n",
       "    <tr style=\"text-align: right;\">\n",
       "      <th></th>\n",
       "      <th>survived</th>\n",
       "      <th>pclass</th>\n",
       "      <th>sex</th>\n",
       "      <th>age</th>\n",
       "      <th>sibsp</th>\n",
       "      <th>parch</th>\n",
       "      <th>fare</th>\n",
       "      <th>embarked</th>\n",
       "      <th>class</th>\n",
       "      <th>who</th>\n",
       "      <th>adult_male</th>\n",
       "      <th>deck</th>\n",
       "      <th>embark_town</th>\n",
       "      <th>alive</th>\n",
       "      <th>alone</th>\n",
       "    </tr>\n",
       "  </thead>\n",
       "  <tbody>\n",
       "    <tr>\n",
       "      <th>0</th>\n",
       "      <td>0</td>\n",
       "      <td>3</td>\n",
       "      <td>male</td>\n",
       "      <td>22.0</td>\n",
       "      <td>1</td>\n",
       "      <td>0</td>\n",
       "      <td>7.2500</td>\n",
       "      <td>S</td>\n",
       "      <td>Third</td>\n",
       "      <td>man</td>\n",
       "      <td>True</td>\n",
       "      <td>NaN</td>\n",
       "      <td>Southampton</td>\n",
       "      <td>no</td>\n",
       "      <td>False</td>\n",
       "    </tr>\n",
       "    <tr>\n",
       "      <th>1</th>\n",
       "      <td>1</td>\n",
       "      <td>1</td>\n",
       "      <td>female</td>\n",
       "      <td>38.0</td>\n",
       "      <td>1</td>\n",
       "      <td>0</td>\n",
       "      <td>71.2833</td>\n",
       "      <td>C</td>\n",
       "      <td>First</td>\n",
       "      <td>woman</td>\n",
       "      <td>False</td>\n",
       "      <td>C</td>\n",
       "      <td>Cherbourg</td>\n",
       "      <td>yes</td>\n",
       "      <td>False</td>\n",
       "    </tr>\n",
       "    <tr>\n",
       "      <th>2</th>\n",
       "      <td>1</td>\n",
       "      <td>3</td>\n",
       "      <td>female</td>\n",
       "      <td>26.0</td>\n",
       "      <td>0</td>\n",
       "      <td>0</td>\n",
       "      <td>7.9250</td>\n",
       "      <td>S</td>\n",
       "      <td>Third</td>\n",
       "      <td>woman</td>\n",
       "      <td>False</td>\n",
       "      <td>NaN</td>\n",
       "      <td>Southampton</td>\n",
       "      <td>yes</td>\n",
       "      <td>True</td>\n",
       "    </tr>\n",
       "    <tr>\n",
       "      <th>3</th>\n",
       "      <td>1</td>\n",
       "      <td>1</td>\n",
       "      <td>female</td>\n",
       "      <td>35.0</td>\n",
       "      <td>1</td>\n",
       "      <td>0</td>\n",
       "      <td>53.1000</td>\n",
       "      <td>S</td>\n",
       "      <td>First</td>\n",
       "      <td>woman</td>\n",
       "      <td>False</td>\n",
       "      <td>C</td>\n",
       "      <td>Southampton</td>\n",
       "      <td>yes</td>\n",
       "      <td>False</td>\n",
       "    </tr>\n",
       "    <tr>\n",
       "      <th>4</th>\n",
       "      <td>0</td>\n",
       "      <td>3</td>\n",
       "      <td>male</td>\n",
       "      <td>35.0</td>\n",
       "      <td>0</td>\n",
       "      <td>0</td>\n",
       "      <td>8.0500</td>\n",
       "      <td>S</td>\n",
       "      <td>Third</td>\n",
       "      <td>man</td>\n",
       "      <td>True</td>\n",
       "      <td>NaN</td>\n",
       "      <td>Southampton</td>\n",
       "      <td>no</td>\n",
       "      <td>True</td>\n",
       "    </tr>\n",
       "    <tr>\n",
       "      <th>...</th>\n",
       "      <td>...</td>\n",
       "      <td>...</td>\n",
       "      <td>...</td>\n",
       "      <td>...</td>\n",
       "      <td>...</td>\n",
       "      <td>...</td>\n",
       "      <td>...</td>\n",
       "      <td>...</td>\n",
       "      <td>...</td>\n",
       "      <td>...</td>\n",
       "      <td>...</td>\n",
       "      <td>...</td>\n",
       "      <td>...</td>\n",
       "      <td>...</td>\n",
       "      <td>...</td>\n",
       "    </tr>\n",
       "    <tr>\n",
       "      <th>886</th>\n",
       "      <td>0</td>\n",
       "      <td>2</td>\n",
       "      <td>male</td>\n",
       "      <td>27.0</td>\n",
       "      <td>0</td>\n",
       "      <td>0</td>\n",
       "      <td>13.0000</td>\n",
       "      <td>S</td>\n",
       "      <td>Second</td>\n",
       "      <td>man</td>\n",
       "      <td>True</td>\n",
       "      <td>NaN</td>\n",
       "      <td>Southampton</td>\n",
       "      <td>no</td>\n",
       "      <td>True</td>\n",
       "    </tr>\n",
       "    <tr>\n",
       "      <th>887</th>\n",
       "      <td>1</td>\n",
       "      <td>1</td>\n",
       "      <td>female</td>\n",
       "      <td>19.0</td>\n",
       "      <td>0</td>\n",
       "      <td>0</td>\n",
       "      <td>30.0000</td>\n",
       "      <td>S</td>\n",
       "      <td>First</td>\n",
       "      <td>woman</td>\n",
       "      <td>False</td>\n",
       "      <td>B</td>\n",
       "      <td>Southampton</td>\n",
       "      <td>yes</td>\n",
       "      <td>True</td>\n",
       "    </tr>\n",
       "    <tr>\n",
       "      <th>888</th>\n",
       "      <td>0</td>\n",
       "      <td>3</td>\n",
       "      <td>female</td>\n",
       "      <td>NaN</td>\n",
       "      <td>1</td>\n",
       "      <td>2</td>\n",
       "      <td>23.4500</td>\n",
       "      <td>S</td>\n",
       "      <td>Third</td>\n",
       "      <td>woman</td>\n",
       "      <td>False</td>\n",
       "      <td>NaN</td>\n",
       "      <td>Southampton</td>\n",
       "      <td>no</td>\n",
       "      <td>False</td>\n",
       "    </tr>\n",
       "    <tr>\n",
       "      <th>889</th>\n",
       "      <td>1</td>\n",
       "      <td>1</td>\n",
       "      <td>male</td>\n",
       "      <td>26.0</td>\n",
       "      <td>0</td>\n",
       "      <td>0</td>\n",
       "      <td>30.0000</td>\n",
       "      <td>C</td>\n",
       "      <td>First</td>\n",
       "      <td>man</td>\n",
       "      <td>True</td>\n",
       "      <td>C</td>\n",
       "      <td>Cherbourg</td>\n",
       "      <td>yes</td>\n",
       "      <td>True</td>\n",
       "    </tr>\n",
       "    <tr>\n",
       "      <th>890</th>\n",
       "      <td>0</td>\n",
       "      <td>3</td>\n",
       "      <td>male</td>\n",
       "      <td>32.0</td>\n",
       "      <td>0</td>\n",
       "      <td>0</td>\n",
       "      <td>7.7500</td>\n",
       "      <td>Q</td>\n",
       "      <td>Third</td>\n",
       "      <td>man</td>\n",
       "      <td>True</td>\n",
       "      <td>NaN</td>\n",
       "      <td>Queenstown</td>\n",
       "      <td>no</td>\n",
       "      <td>True</td>\n",
       "    </tr>\n",
       "  </tbody>\n",
       "</table>\n",
       "<p>891 rows × 15 columns</p>\n",
       "</div>"
      ],
      "text/plain": [
       "     survived  pclass     sex   age  sibsp  parch     fare embarked   class  \\\n",
       "0           0       3    male  22.0      1      0   7.2500        S   Third   \n",
       "1           1       1  female  38.0      1      0  71.2833        C   First   \n",
       "2           1       3  female  26.0      0      0   7.9250        S   Third   \n",
       "3           1       1  female  35.0      1      0  53.1000        S   First   \n",
       "4           0       3    male  35.0      0      0   8.0500        S   Third   \n",
       "..        ...     ...     ...   ...    ...    ...      ...      ...     ...   \n",
       "886         0       2    male  27.0      0      0  13.0000        S  Second   \n",
       "887         1       1  female  19.0      0      0  30.0000        S   First   \n",
       "888         0       3  female   NaN      1      2  23.4500        S   Third   \n",
       "889         1       1    male  26.0      0      0  30.0000        C   First   \n",
       "890         0       3    male  32.0      0      0   7.7500        Q   Third   \n",
       "\n",
       "       who  adult_male deck  embark_town alive  alone  \n",
       "0      man        True  NaN  Southampton    no  False  \n",
       "1    woman       False    C    Cherbourg   yes  False  \n",
       "2    woman       False  NaN  Southampton   yes   True  \n",
       "3    woman       False    C  Southampton   yes  False  \n",
       "4      man        True  NaN  Southampton    no   True  \n",
       "..     ...         ...  ...          ...   ...    ...  \n",
       "886    man        True  NaN  Southampton    no   True  \n",
       "887  woman       False    B  Southampton   yes   True  \n",
       "888  woman       False  NaN  Southampton    no  False  \n",
       "889    man        True    C    Cherbourg   yes   True  \n",
       "890    man        True  NaN   Queenstown    no   True  \n",
       "\n",
       "[891 rows x 15 columns]"
      ]
     },
     "execution_count": 2,
     "metadata": {},
     "output_type": "execute_result"
    }
   ],
   "source": [
    "df = sns.load_dataset('titanic')\n",
    "df"
   ]
  },
  {
   "cell_type": "code",
   "execution_count": 3,
   "id": "94b5b695-b0e2-4dfa-b83a-e6097b2be6e5",
   "metadata": {},
   "outputs": [
    {
     "data": {
      "text/html": [
       "<div>\n",
       "<style scoped>\n",
       "    .dataframe tbody tr th:only-of-type {\n",
       "        vertical-align: middle;\n",
       "    }\n",
       "\n",
       "    .dataframe tbody tr th {\n",
       "        vertical-align: top;\n",
       "    }\n",
       "\n",
       "    .dataframe thead th {\n",
       "        text-align: right;\n",
       "    }\n",
       "</style>\n",
       "<table border=\"1\" class=\"dataframe\">\n",
       "  <thead>\n",
       "    <tr style=\"text-align: right;\">\n",
       "      <th></th>\n",
       "      <th>survived</th>\n",
       "      <th>pclass</th>\n",
       "      <th>age</th>\n",
       "      <th>sibsp</th>\n",
       "      <th>parch</th>\n",
       "      <th>fare</th>\n",
       "    </tr>\n",
       "  </thead>\n",
       "  <tbody>\n",
       "    <tr>\n",
       "      <th>count</th>\n",
       "      <td>891.000000</td>\n",
       "      <td>891.000000</td>\n",
       "      <td>714.000000</td>\n",
       "      <td>891.000000</td>\n",
       "      <td>891.000000</td>\n",
       "      <td>891.000000</td>\n",
       "    </tr>\n",
       "    <tr>\n",
       "      <th>mean</th>\n",
       "      <td>0.383838</td>\n",
       "      <td>2.308642</td>\n",
       "      <td>29.699118</td>\n",
       "      <td>0.523008</td>\n",
       "      <td>0.381594</td>\n",
       "      <td>32.204208</td>\n",
       "    </tr>\n",
       "    <tr>\n",
       "      <th>std</th>\n",
       "      <td>0.486592</td>\n",
       "      <td>0.836071</td>\n",
       "      <td>14.526497</td>\n",
       "      <td>1.102743</td>\n",
       "      <td>0.806057</td>\n",
       "      <td>49.693429</td>\n",
       "    </tr>\n",
       "    <tr>\n",
       "      <th>min</th>\n",
       "      <td>0.000000</td>\n",
       "      <td>1.000000</td>\n",
       "      <td>0.420000</td>\n",
       "      <td>0.000000</td>\n",
       "      <td>0.000000</td>\n",
       "      <td>0.000000</td>\n",
       "    </tr>\n",
       "    <tr>\n",
       "      <th>25%</th>\n",
       "      <td>0.000000</td>\n",
       "      <td>2.000000</td>\n",
       "      <td>20.125000</td>\n",
       "      <td>0.000000</td>\n",
       "      <td>0.000000</td>\n",
       "      <td>7.910400</td>\n",
       "    </tr>\n",
       "    <tr>\n",
       "      <th>50%</th>\n",
       "      <td>0.000000</td>\n",
       "      <td>3.000000</td>\n",
       "      <td>28.000000</td>\n",
       "      <td>0.000000</td>\n",
       "      <td>0.000000</td>\n",
       "      <td>14.454200</td>\n",
       "    </tr>\n",
       "    <tr>\n",
       "      <th>75%</th>\n",
       "      <td>1.000000</td>\n",
       "      <td>3.000000</td>\n",
       "      <td>38.000000</td>\n",
       "      <td>1.000000</td>\n",
       "      <td>0.000000</td>\n",
       "      <td>31.000000</td>\n",
       "    </tr>\n",
       "    <tr>\n",
       "      <th>max</th>\n",
       "      <td>1.000000</td>\n",
       "      <td>3.000000</td>\n",
       "      <td>80.000000</td>\n",
       "      <td>8.000000</td>\n",
       "      <td>6.000000</td>\n",
       "      <td>512.329200</td>\n",
       "    </tr>\n",
       "  </tbody>\n",
       "</table>\n",
       "</div>"
      ],
      "text/plain": [
       "         survived      pclass         age       sibsp       parch        fare\n",
       "count  891.000000  891.000000  714.000000  891.000000  891.000000  891.000000\n",
       "mean     0.383838    2.308642   29.699118    0.523008    0.381594   32.204208\n",
       "std      0.486592    0.836071   14.526497    1.102743    0.806057   49.693429\n",
       "min      0.000000    1.000000    0.420000    0.000000    0.000000    0.000000\n",
       "25%      0.000000    2.000000   20.125000    0.000000    0.000000    7.910400\n",
       "50%      0.000000    3.000000   28.000000    0.000000    0.000000   14.454200\n",
       "75%      1.000000    3.000000   38.000000    1.000000    0.000000   31.000000\n",
       "max      1.000000    3.000000   80.000000    8.000000    6.000000  512.329200"
      ]
     },
     "execution_count": 3,
     "metadata": {},
     "output_type": "execute_result"
    }
   ],
   "source": [
    "df.describe()"
   ]
  },
  {
   "cell_type": "markdown",
   "id": "5b1f2fe7-f56d-40a7-b971-e8c03e13041d",
   "metadata": {},
   "source": [
    "## Mean"
   ]
  },
  {
   "cell_type": "code",
   "execution_count": 4,
   "id": "ca7b3b6e-bb4b-40fd-a839-12464d4134a9",
   "metadata": {},
   "outputs": [
    {
     "data": {
      "text/plain": [
       "np.float64(32.204207968574636)"
      ]
     },
     "execution_count": 4,
     "metadata": {},
     "output_type": "execute_result"
    }
   ],
   "source": [
    "df['fare'].mean()"
   ]
  },
  {
   "cell_type": "code",
   "execution_count": 5,
   "id": "78d692f8-865e-43df-916a-7cfe8b9036ed",
   "metadata": {},
   "outputs": [
    {
     "data": {
      "text/plain": [
       "np.float64(0.0)"
      ]
     },
     "execution_count": 5,
     "metadata": {},
     "output_type": "execute_result"
    }
   ],
   "source": [
    "stats.gmean(df['fare'])"
   ]
  },
  {
   "cell_type": "code",
   "execution_count": 6,
   "id": "0e1aadea-3cb5-4000-8269-1baa63ff3847",
   "metadata": {},
   "outputs": [
    {
     "data": {
      "text/plain": [
       "np.float64(18.639596365956756)"
      ]
     },
     "execution_count": 6,
     "metadata": {},
     "output_type": "execute_result"
    }
   ],
   "source": [
    "data = np.array([10,15,20,25,30])\n",
    "stats.gmean(data)"
   ]
  },
  {
   "cell_type": "code",
   "execution_count": 7,
   "id": "29bbd4d3-5c81-4616-958b-16508c8b7d0e",
   "metadata": {},
   "outputs": [
    {
     "data": {
      "text/plain": [
       "np.float64(17.24137931034483)"
      ]
     },
     "execution_count": 7,
     "metadata": {},
     "output_type": "execute_result"
    }
   ],
   "source": [
    "stats.hmean(data)"
   ]
  },
  {
   "cell_type": "code",
   "execution_count": 8,
   "id": "c954ed83-62fb-456b-9079-74c395688dce",
   "metadata": {},
   "outputs": [
    {
     "data": {
      "text/plain": [
       "np.float64(20.0)"
      ]
     },
     "execution_count": 8,
     "metadata": {},
     "output_type": "execute_result"
    }
   ],
   "source": [
    "data.mean()"
   ]
  },
  {
   "cell_type": "code",
   "execution_count": 9,
   "id": "3bf38b4b-95c1-40e9-9f13-96e54fb474ce",
   "metadata": {},
   "outputs": [
    {
     "data": {
      "text/plain": [
       "np.float64(20.0)"
      ]
     },
     "execution_count": 9,
     "metadata": {},
     "output_type": "execute_result"
    }
   ],
   "source": [
    "stats.trim_mean(data,0.1)"
   ]
  },
  {
   "cell_type": "markdown",
   "id": "fdc448f1-bd59-49b7-a12b-f08a60e3026a",
   "metadata": {},
   "source": [
    "## Median"
   ]
  },
  {
   "cell_type": "code",
   "execution_count": 10,
   "id": "cd20f1f2-f7a3-4edd-b611-5a61e88d9bbc",
   "metadata": {},
   "outputs": [
    {
     "data": {
      "text/plain": [
       "np.float64(14.4542)"
      ]
     },
     "execution_count": 10,
     "metadata": {},
     "output_type": "execute_result"
    }
   ],
   "source": [
    "df['fare'].median()"
   ]
  },
  {
   "cell_type": "code",
   "execution_count": 11,
   "id": "e60f7c4f-50ea-4531-bfd8-6b09f83e061e",
   "metadata": {},
   "outputs": [
    {
     "data": {
      "text/plain": [
       "np.float64(28.0)"
      ]
     },
     "execution_count": 11,
     "metadata": {},
     "output_type": "execute_result"
    }
   ],
   "source": [
    "df['age'].median()"
   ]
  },
  {
   "cell_type": "markdown",
   "id": "8b2e915d-a037-4854-909c-ce3328fe8e9b",
   "metadata": {},
   "source": [
    "## Mode"
   ]
  },
  {
   "cell_type": "code",
   "execution_count": 12,
   "id": "77e9f076-4341-4b67-8755-430f9ac520d1",
   "metadata": {},
   "outputs": [
    {
     "data": {
      "text/plain": [
       "0    8.05\n",
       "Name: fare, dtype: float64"
      ]
     },
     "execution_count": 12,
     "metadata": {},
     "output_type": "execute_result"
    }
   ],
   "source": [
    "df['fare'].mode()"
   ]
  },
  {
   "cell_type": "code",
   "execution_count": 13,
   "id": "d0fe4cc7-2212-45a3-aeb8-9dcb812df2cf",
   "metadata": {},
   "outputs": [
    {
     "data": {
      "text/plain": [
       "0    Third\n",
       "Name: class, dtype: category\n",
       "Categories (3, object): ['First', 'Second', 'Third']"
      ]
     },
     "execution_count": 13,
     "metadata": {},
     "output_type": "execute_result"
    }
   ],
   "source": [
    "df['class'].mode()"
   ]
  },
  {
   "cell_type": "markdown",
   "id": "cf726f3c-acd4-43ba-a1ac-29810d5c3d70",
   "metadata": {},
   "source": [
    "## Range"
   ]
  },
  {
   "cell_type": "code",
   "execution_count": 14,
   "id": "e26efd6c-e1bb-48c7-99c7-069db10e387b",
   "metadata": {},
   "outputs": [
    {
     "data": {
      "text/plain": [
       "np.int64(14)"
      ]
     },
     "execution_count": 14,
     "metadata": {},
     "output_type": "execute_result"
    }
   ],
   "source": [
    "df1 = np.array([1,2,3,4,5,6,7,8,9,10,11,12,13,14,15])\n",
    "np.ptp(df1)"
   ]
  },
  {
   "cell_type": "code",
   "execution_count": 15,
   "id": "63a0bdd6-9c54-43a7-8221-17a381d2d39a",
   "metadata": {},
   "outputs": [
    {
     "data": {
      "text/plain": [
       "np.float64(nan)"
      ]
     },
     "execution_count": 15,
     "metadata": {},
     "output_type": "execute_result"
    }
   ],
   "source": [
    "np.ptp(df['age'])"
   ]
  },
  {
   "cell_type": "code",
   "execution_count": 16,
   "id": "0c23c7ff-d545-4278-92c7-17e715e42363",
   "metadata": {},
   "outputs": [
    {
     "data": {
      "text/plain": [
       "np.float64(512.3292)"
      ]
     },
     "execution_count": 16,
     "metadata": {},
     "output_type": "execute_result"
    }
   ],
   "source": [
    "np.ptp(df['fare'])"
   ]
  },
  {
   "cell_type": "markdown",
   "id": "fb0d479b-2896-4810-ad0f-7424fc3eef97",
   "metadata": {},
   "source": [
    "## IQR"
   ]
  },
  {
   "cell_type": "code",
   "execution_count": 17,
   "id": "bdb87838-ecb6-49dd-a20a-197d210a79f5",
   "metadata": {},
   "outputs": [
    {
     "name": "stdout",
     "output_type": "stream",
     "text": [
      "Data with outliers :  116\n",
      "Data with no outliers :  775\n"
     ]
    }
   ],
   "source": [
    "Q1 = np.percentile(df['fare'], 25)\n",
    "Q3 = np.percentile(df['fare'], 75)\n",
    "\n",
    "IQR = Q3 - Q1\n",
    "\n",
    "lower_bond = Q1-1.5*IQR\n",
    "upper_bond = Q3+1.5*IQR\n",
    "\n",
    "outlier = (df['fare'] < lower_bond)|(df['fare'] > upper_bond)\n",
    "\n",
    "df_no_outlier = df[~outlier]\n",
    "\n",
    "print(\"Data with outliers : \",outlier.sum())\n",
    "print(\"Data with no outliers : \",len(df_no_outlier))"
   ]
  },
  {
   "cell_type": "code",
   "execution_count": 18,
   "id": "99681c47-fd16-49ad-8334-3d35e856382c",
   "metadata": {},
   "outputs": [
    {
     "data": {
      "image/png": "[encoded data removed]",
      "text/plain": [
       "<Figure size 640x480 with 2 Axes>"
      ]
     },
     "metadata": {},
     "output_type": "display_data"
    }
   ],
   "source": [
    "plt.subplot(1, 2, 1)\n",
    "sns.boxplot(x=df['fare'], color='salmon')\n",
    "plt.title('Fare Distribution (With Outliers)')\n",
    "plt.xlabel('Fare')\n",
    "\n",
    "# Cleaned data\n",
    "plt.subplot(1, 2, 2)\n",
    "sns.boxplot(x=df_no_outlier['fare'], color='skyblue')\n",
    "plt.title('Fare Distribution (Without Outliers)')\n",
    "plt.xlabel('Fare')\n",
    "\n",
    "plt.tight_layout()\n",
    "plt.show()"
   ]
  },
  {
   "cell_type": "markdown",
   "id": "55a42f18-c74f-4e4e-9a85-2596eb581e87",
   "metadata": {},
   "source": [
    "## Variance"
   ]
  },
  {
   "cell_type": "code",
   "execution_count": 19,
   "id": "ed20a181-a858-46c9-85f6-2c86829678dd",
   "metadata": {},
   "outputs": [
    {
     "data": {
      "text/plain": [
       "np.float64(3.5)"
      ]
     },
     "execution_count": 19,
     "metadata": {},
     "output_type": "execute_result"
    }
   ],
   "source": [
    "df_var = np.array([10,11,12,13,14,15])\n",
    "var = np.var(df_var, ddof=1)\n",
    "var"
   ]
  },
  {
   "cell_type": "markdown",
   "id": "1111fceb-2f06-42ac-a923-86e00b302975",
   "metadata": {},
   "source": [
    "## standard deviation"
   ]
  },
  {
   "cell_type": "code",
   "execution_count": 20,
   "id": "07e84537-6c43-454e-a30b-779081df9d1a",
   "metadata": {},
   "outputs": [
    {
     "data": {
      "text/plain": [
       "np.float64(1.8708286933869707)"
      ]
     },
     "execution_count": 20,
     "metadata": {},
     "output_type": "execute_result"
    }
   ],
   "source": [
    "df_std = np.array([10,11,12,13,14,15])\n",
    "std = np.std(df_var, ddof=1)\n",
    "std"
   ]
  },
  {
   "cell_type": "markdown",
   "id": "cd924a69-d3b1-4816-a245-c41b7cd7d374",
   "metadata": {},
   "source": [
    "## Standard Error"
   ]
  },
  {
   "cell_type": "code",
   "execution_count": 21,
   "id": "db6117af-a3c8-4777-ae2a-33a3dd828b8c",
   "metadata": {},
   "outputs": [
    {
     "data": {
      "text/plain": [
       "np.float64(0.7637626158259734)"
      ]
     },
     "execution_count": 21,
     "metadata": {},
     "output_type": "execute_result"
    }
   ],
   "source": [
    "df_var = np.array([10,11,12,13,14,15])\n",
    "n = len(df_var)\n",
    "std = np.std(df_var, ddof=1)\n",
    "se = std/np.sqrt(n)\n",
    "se"
   ]
  },
  {
   "cell_type": "markdown",
   "id": "bad6297f-e360-482b-bb81-af66ff74c45e",
   "metadata": {},
   "source": [
    "## Distributions"
   ]
  },
  {
   "cell_type": "code",
   "execution_count": 22,
   "id": "bdc1316d-edd7-4f06-a85c-c2f9b1a35ce7",
   "metadata": {},
   "outputs": [
    {
     "data": {
      "text/plain": [
       "<Axes: xlabel='age', ylabel='Count'>"
      ]
     },
     "execution_count": 22,
     "metadata": {},
     "output_type": "execute_result"
    },
    {
     "data": {
      "image/png": "[encoded data removed]",
      "text/plain": [
       "<Figure size 1000x600 with 1 Axes>"
      ]
     },
     "metadata": {},
     "output_type": "display_data"
    }
   ],
   "source": [
    "# Histplot\n",
    "plt.figure(figsize=(10,6))\n",
    "sns.histplot(data=df,x='age',kde=True)"
   ]
  },
  {
   "cell_type": "code",
   "execution_count": 23,
   "id": "8eeed8d8-eac9-4bc5-815f-b132f4e89872",
   "metadata": {},
   "outputs": [
    {
     "data": {
      "text/plain": [
       "<Axes: xlabel='fare', ylabel='Count'>"
      ]
     },
     "execution_count": 23,
     "metadata": {},
     "output_type": "execute_result"
    },
    {
     "data": {
      "image/png": "[encoded data removed]",
      "text/plain": [
       "<Figure size 1000x600 with 1 Axes>"
      ]
     },
     "metadata": {},
     "output_type": "display_data"
    }
   ],
   "source": [
    "# Histplot\n",
    "plt.figure(figsize=(10,6))\n",
    "sns.histplot(data=df,x='fare',kde=True)"
   ]
  },
  {
   "cell_type": "markdown",
   "id": "b8e5a259-e40c-42fe-a7bd-dd49c72b6576",
   "metadata": {},
   "source": [
    "## Kurtosis"
   ]
  },
  {
   "cell_type": "code",
   "execution_count": 24,
   "id": "91dbac69-2c48-4c26-a7ca-96443be3b85e",
   "metadata": {},
   "outputs": [
    {
     "data": {
      "text/plain": [
       "np.float64(nan)"
      ]
     },
     "execution_count": 24,
     "metadata": {},
     "output_type": "execute_result"
    }
   ],
   "source": [
    "stats.kurtosis(df['age'], fisher=False)"
   ]
  },
  {
   "cell_type": "code",
   "execution_count": 25,
   "id": "3f8d1959-e253-41ea-85d7-1e77d5fdaec7",
   "metadata": {},
   "outputs": [
    {
     "data": {
      "text/plain": [
       "np.float64(36.20428925264474)"
      ]
     },
     "execution_count": 25,
     "metadata": {},
     "output_type": "execute_result"
    }
   ],
   "source": [
    "stats.kurtosis(df['fare'],fisher=False)"
   ]
  },
  {
   "cell_type": "markdown",
   "id": "8e3c8dbd-c8fd-4bcc-8c41-cde67aecfe5a",
   "metadata": {},
   "source": [
    "## Skewness"
   ]
  },
  {
   "cell_type": "code",
   "execution_count": 26,
   "id": "0f9cc036-0893-4575-81dd-b771a92c37c6",
   "metadata": {},
   "outputs": [
    {
     "data": {
      "text/plain": [
       "np.float64(4.7792532923723545)"
      ]
     },
     "execution_count": 26,
     "metadata": {},
     "output_type": "execute_result"
    }
   ],
   "source": [
    "stats.skew(df['fare'])"
   ]
  },
  {
   "cell_type": "code",
   "execution_count": 27,
   "id": "7f7102ca-5cd2-46ef-92ba-74215266c41e",
   "metadata": {},
   "outputs": [
    {
     "data": {
      "text/plain": [
       "np.float64(nan)"
      ]
     },
     "execution_count": 27,
     "metadata": {},
     "output_type": "execute_result"
    }
   ],
   "source": [
    "stats .skew(df['age'])"
   ]
  },
  {
   "cell_type": "markdown",
   "id": "ad94344c-4221-43ce-a51f-4236f7b40367",
   "metadata": {},
   "source": [
    "## Shapiro Test"
   ]
  },
  {
   "cell_type": "code",
   "execution_count": 28,
   "id": "855c1dcc-be49-430f-96b2-846cef04b435",
   "metadata": {},
   "outputs": [
    {
     "data": {
      "text/plain": [
       "ShapiroResult(statistic=np.float64(0.5218913010396559), pvalue=np.float64(1.0840444395829658e-43))"
      ]
     },
     "execution_count": 28,
     "metadata": {},
     "output_type": "execute_result"
    }
   ],
   "source": [
    "stats.shapiro(df['fare'])"
   ]
  },
  {
   "cell_type": "markdown",
   "id": "ef316c56-cbdf-451e-84e8-44d3bd3d4d43",
   "metadata": {},
   "source": [
    "## Chi-square Test"
   ]
  },
  {
   "cell_type": "code",
   "execution_count": 29,
   "id": "2c8cb781-dc96-4b25-a487-cf521b286876",
   "metadata": {},
   "outputs": [
    {
     "data": {
      "text/html": [
       "<div>\n",
       "<style scoped>\n",
       "    .dataframe tbody tr th:only-of-type {\n",
       "        vertical-align: middle;\n",
       "    }\n",
       "\n",
       "    .dataframe tbody tr th {\n",
       "        vertical-align: top;\n",
       "    }\n",
       "\n",
       "    .dataframe thead th {\n",
       "        text-align: right;\n",
       "    }\n",
       "</style>\n",
       "<table border=\"1\" class=\"dataframe\">\n",
       "  <thead>\n",
       "    <tr style=\"text-align: right;\">\n",
       "      <th>survived</th>\n",
       "      <th>0</th>\n",
       "      <th>1</th>\n",
       "    </tr>\n",
       "    <tr>\n",
       "      <th>sex</th>\n",
       "      <th></th>\n",
       "      <th></th>\n",
       "    </tr>\n",
       "  </thead>\n",
       "  <tbody>\n",
       "    <tr>\n",
       "      <th>female</th>\n",
       "      <td>81</td>\n",
       "      <td>233</td>\n",
       "    </tr>\n",
       "    <tr>\n",
       "      <th>male</th>\n",
       "      <td>468</td>\n",
       "      <td>109</td>\n",
       "    </tr>\n",
       "  </tbody>\n",
       "</table>\n",
       "</div>"
      ],
      "text/plain": [
       "survived    0    1\n",
       "sex               \n",
       "female     81  233\n",
       "male      468  109"
      ]
     },
     "execution_count": 29,
     "metadata": {},
     "output_type": "execute_result"
    }
   ],
   "source": [
    "# Create a contigency table\n",
    "contigency_table = pd.crosstab(df['sex'],df['survived'])\n",
    "contigency_table"
   ]
  },
  {
   "cell_type": "code",
   "execution_count": 30,
   "id": "c6e1b700-01cc-48da-b359-6c013c9efc1a",
   "metadata": {},
   "outputs": [
    {
     "name": "stdout",
     "output_type": "stream",
     "text": [
      "Chi-square statistics:  260.71702016732104\n",
      "p-value:  1.1973570627755645e-58\n",
      "Degrees of freedom:  1\n",
      "Expected: \n",
      "[[193.47474747 120.52525253]\n",
      " [355.52525253 221.47474747]]\n"
     ]
    }
   ],
   "source": [
    "# chi-square test\n",
    "chi2, p, dof, expected = stats.chi2_contingency(contigency_table)\n",
    "print('Chi-square statistics: ',chi2)\n",
    "print('p-value: ',p)\n",
    "print('Degrees of freedom: ',dof)\n",
    "print(f'Expected: \\n{expected}')"
   ]
  },
  {
   "cell_type": "markdown",
   "id": "af9b6d1e-9f03-4cd8-9415-84895e99057b",
   "metadata": {},
   "source": [
    "## Normal Distribution test"
   ]
  },
  {
   "cell_type": "code",
   "execution_count": 31,
   "id": "bb800052-80fb-4962-aefe-05d647a54c4c",
   "metadata": {},
   "outputs": [
    {
     "data": {
      "text/plain": [
       "<Axes: xlabel='age', ylabel='Count'>"
      ]
     },
     "execution_count": 31,
     "metadata": {},
     "output_type": "execute_result"
    },
    {
     "data": {
      "image/png": "[encoded data removed]",
      "text/plain": [
       "<Figure size 1000x600 with 1 Axes>"
      ]
     },
     "metadata": {},
     "output_type": "display_data"
    }
   ],
   "source": [
    "plt.figure(figsize=(10,6))\n",
    "sns.histplot(data=df,x='age',hue=\"who\",kde=True)"
   ]
  },
  {
   "cell_type": "markdown",
   "id": "c5b4926d-bfea-4e7d-b642-0469b1f03923",
   "metadata": {},
   "source": [
    "#### shapiro wilk test on normal distribution"
   ]
  },
  {
   "cell_type": "code",
   "execution_count": 32,
   "id": "390167f3-b3dc-4582-9cbb-f344c9c14f3f",
   "metadata": {},
   "outputs": [
    {
     "name": "stdout",
     "output_type": "stream",
     "text": [
      "statistics: nan\n",
      "p-value: nan\n",
      "---------------------------------------------\n",
      "p-values: nan, sample does not look gaussian/normally distributed (rejected)\n"
     ]
    }
   ],
   "source": [
    "statistics, p = stats.shapiro(df['age'])\n",
    "\n",
    "#printing the results using if else conditions\n",
    "\n",
    "print(f\"statistics: {statistics}\")\n",
    "print(f\"p-value: {p}\")\n",
    "print(\"---\"*15)\n",
    "\n",
    "if  p > 0.05:\n",
    "    print(f\"p-value: {p}, sample looks gaussian/normally (fail to rejects H0)\")\n",
    "else:\n",
    "    print(f\"p-values: {p}, sample does not look gaussian/normally distributed (rejected)\")"
   ]
  },
  {
   "cell_type": "code",
   "execution_count": 33,
   "id": "e49ee917-e28b-49f2-b622-ca036faadcfd",
   "metadata": {},
   "outputs": [
    {
     "name": "stdout",
     "output_type": "stream",
     "text": [
      "statistics: 0.5218913010396559\n",
      "p-value: 1.0840444395829658e-43\n",
      "---------------------------------------------\n",
      "p-values: 1.0840444395829658e-43, sample does not look gaussian/normally distributed (rejected)\n"
     ]
    }
   ],
   "source": [
    "statistics, p = stats.shapiro(df['fare'])\n",
    "\n",
    "#printing the results using if else conditions\n",
    "\n",
    "print(f\"statistics: {statistics}\")\n",
    "print(f\"p-value: {p}\")\n",
    "print(\"---\"*15)\n",
    "\n",
    "if  p > 0.05:\n",
    "    print(f\"p-value: {p}, sample looks gaussian/normally (fail to rejects H0)\")\n",
    "else:\n",
    "    print(f\"p-values: {p}, sample does not look gaussian/normally distributed (rejected)\")"
   ]
  },
  {
   "cell_type": "markdown",
   "id": "b2f040eb-3dc3-48ff-a5af-e205eceb720b",
   "metadata": {},
   "source": [
    "## T-test"
   ]
  },
  {
   "cell_type": "markdown",
   "id": "ffa2a962-f75e-470b-bdd6-55014cc0dc94",
   "metadata": {},
   "source": [
    "#### one sample t-test"
   ]
  },
  {
   "cell_type": "code",
   "execution_count": 34,
   "id": "04da3e4e-1e6b-4b71-9022-fa240de0bcd4",
   "metadata": {},
   "outputs": [
    {
     "name": "stdout",
     "output_type": "stream",
     "text": [
      "t-statistics: 0.0\n",
      "p-value: 1.0\n",
      "---------------------------------------------\n",
      "p value: 1.0, sample mean equal to the population mean (fail to reject)\n"
     ]
    }
   ],
   "source": [
    "x = np.array([1,2,3,4,5])\n",
    "mu = 3\n",
    "\n",
    "# one sample t test\n",
    "t_statistic, p = stats.ttest_1samp(x,mu)\n",
    "\n",
    "print(f\"t-statistics: {t_statistic}\")\n",
    "print(f\"p-value: {p}\")\n",
    "print(\"---\"*15)\n",
    "\n",
    "if p > 0.05:\n",
    "    print(f\"p value: {p}, sample mean equal to the population mean (fail to reject)\")\n",
    "else:\n",
    "    print(f\"p-values: {p}, sample does not look gaussian/normally distributed (rejected)\")    "
   ]
  },
  {
   "cell_type": "markdown",
   "id": "70a29519-757f-4a10-9c0e-86d1831e12f6",
   "metadata": {},
   "source": [
    "#### Two sample t-test"
   ]
  },
  {
   "cell_type": "code",
   "execution_count": 35,
   "id": "71040ce2-dbf1-45b4-8f1a-2e1e194a5bdd",
   "metadata": {},
   "outputs": [
    {
     "name": "stdout",
     "output_type": "stream",
     "text": [
      "t-statistics: 1.8482055087756457\n",
      "p-value: 0.10175647371829195\n",
      "---------------------------------------------\n",
      "p value: 0.10175647371829195, group1 mean equal to group2 mean (fail to reject)\n"
     ]
    }
   ],
   "source": [
    "group1 = [2.3,3.4,4.5,2.3,3.4]\n",
    "group2 = [1.2,2.2,3.2,2.2,2.3]\n",
    "\n",
    "#performing two sample t-test\n",
    "\n",
    "t_stat, p = stats.ttest_ind(group1,group2)\n",
    "\n",
    "print(f\"t-statistics: {t_stat}\")\n",
    "print(f\"p-value: {p}\")\n",
    "print(\"---\"*15)\n",
    "\n",
    "if p > 0.05:\n",
    "    print(f\"p value: {p}, group1 mean equal to group2 mean (fail to reject)\")\n",
    "else:\n",
    "    print(f\"p-values: {p}, group1 mean is not equal to group2 (rejected)\")"
   ]
  },
  {
   "cell_type": "markdown",
   "id": "c4624c3c-9ba7-44f7-8c6e-2b0c5c3e91eb",
   "metadata": {},
   "source": [
    "#### Paired sample t-test"
   ]
  },
  {
   "cell_type": "code",
   "execution_count": 36,
   "id": "cb16a082-de18-474a-b045-1f92ba56164a",
   "metadata": {},
   "outputs": [
    {
     "name": "stdout",
     "output_type": "stream",
     "text": [
      "t-statistics: 0.0\n",
      "p-value: 1.0\n",
      "---------------------------------------------\n",
      "p value: 1.0, before mean is equal to after mean (fail to reject)\n"
     ]
    }
   ],
   "source": [
    "before = [1,2,3,4,5]\n",
    "after = [2,2,4,4,3]\n",
    "\n",
    "#performing paired sample sample t-test\n",
    "t_stat, p = stats.ttest_rel(before,after)\n",
    "\n",
    "print(f\"t-statistics: {t_stat}\")\n",
    "print(f\"p-value: {p}\")\n",
    "print(\"---\"*15)\n",
    "\n",
    "if p > 0.05:\n",
    "    print(f\"p value: {p}, before mean is equal to after mean (fail to reject)\")\n",
    "else:\n",
    "    print(f\"p-values: {p}, before mean is not equal to after mean (rejected)\")"
   ]
  },
  {
   "cell_type": "markdown",
   "id": "5d267164-8ce7-4b46-91fa-28ab752c7d20",
   "metadata": {},
   "source": [
    "## Levene's test\n",
    "test for homogeniety"
   ]
  },
  {
   "cell_type": "code",
   "execution_count": 37,
   "id": "a1489def-c46d-4580-8be5-ac138a9bef06",
   "metadata": {},
   "outputs": [
    {
     "name": "stdout",
     "output_type": "stream",
     "text": [
      "statistics: 0.44651162790697696\n",
      "p-value: 0.5228039334796065\n",
      "---------------------------------------------\n",
      "p value: 0.5228039334796065, variances are equal (fail to reject)\n"
     ]
    }
   ],
   "source": [
    "group1 = [2.3,3.4,4.5,2.3,3.4]\n",
    "group2 = [1.2,2.2,3.2,2.2,2.3]\n",
    "\n",
    "#performing two sample t-test\n",
    "stat, p = stats.levene(group1,group2)\n",
    "\n",
    "print(f\"statistics: {stat}\")\n",
    "print(f\"p-value: {p}\")\n",
    "print(\"---\"*15)\n",
    "\n",
    "if p > 0.05:\n",
    "    print(f\"p value: {p}, variances are equal (fail to reject)\")\n",
    "else:\n",
    "    print(f\"p-values: {p}, variances are not equal (rejected)\")"
   ]
  },
  {
   "cell_type": "markdown",
   "id": "6f8a4634-c424-4509-8b2d-828a9f73553a",
   "metadata": {},
   "source": [
    "## Bartlett's Test"
   ]
  },
  {
   "cell_type": "code",
   "execution_count": 38,
   "id": "75bdd50a-3113-4207-9bc8-4057f2d53309",
   "metadata": {},
   "outputs": [
    {
     "name": "stdout",
     "output_type": "stream",
     "text": [
      "statistics: 0.24050679805097827\n",
      "p-value: 0.6238403179343277\n",
      "---------------------------------------------\n",
      "p value: 0.6238403179343277, variances are equal (fail to reject)\n"
     ]
    }
   ],
   "source": [
    "group1 = [2.3,3.4,4.5,2.3,3.4]\n",
    "group2 = [1.2,2.2,3.2,2.2,2.3]\n",
    "\n",
    "#performing two sample t-test\n",
    "stat, p = stats.bartlett(group1,group2)\n",
    "\n",
    "print(f\"statistics: {stat}\")\n",
    "print(f\"p-value: {p}\")\n",
    "print(\"---\"*15)\n",
    "\n",
    "if p > 0.05:\n",
    "    print(f\"p value: {p}, variances are equal (fail to reject)\")\n",
    "else:\n",
    "    print(f\"p-values: {p}, variances are not equal (rejected)\")"
   ]
  },
  {
   "cell_type": "markdown",
   "id": "609a03ea-0796-475c-82e2-fbaad64456a1",
   "metadata": {},
   "source": [
    "## Anova"
   ]
  },
  {
   "cell_type": "markdown",
   "id": "cf6d3a8f-e78c-4eed-af8c-55da8ff4ea8f",
   "metadata": {},
   "source": [
    "#### One way anova "
   ]
  },
  {
   "cell_type": "code",
   "execution_count": 39,
   "id": "371dd6de-5a88-48cb-be62-71234adc4b5f",
   "metadata": {},
   "outputs": [
    {
     "name": "stdout",
     "output_type": "stream",
     "text": [
      "statistics: 16.739586738016907\n",
      "p-value: 0.0003374520696886858\n",
      "---------------------------------------------\n",
      "p-values: 0.0003374520696886858, mean are not equal (rejected)\n"
     ]
    }
   ],
   "source": [
    "a = [2.2,3.4,4.3,5.6,2.1]\n",
    "b = [10.2,9.9,7.1,5.9,3.7]\n",
    "c = [32.2,33.24,24.3,15.6,12.1]\n",
    "\n",
    "stat, p = stats.f_oneway(a,b,c)\n",
    "\n",
    "print(f\"statistics: {stat}\")\n",
    "print(f\"p-value: {p}\")\n",
    "print(\"---\"*15)\n",
    "\n",
    "if p > 0.05:\n",
    "    print(f\"p value: {p}, mean are equal (fail to reject)\")\n",
    "else:\n",
    "    print(f\"p-values: {p}, mean are not equal (rejected)\")"
   ]
  },
  {
   "cell_type": "markdown",
   "id": "8c90be00-3b2e-44a0-8810-5d0f40137957",
   "metadata": {},
   "source": [
    "### One-Way ANOVA using statsmodels"
   ]
  },
  {
   "cell_type": "code",
   "execution_count": 40,
   "id": "811c9d3a-2bbd-4bb8-898c-a1038d4217eb",
   "metadata": {},
   "outputs": [
    {
     "name": "stdout",
     "output_type": "stream",
     "text": [
      "                sum_sq     df          F        PR(>F)\n",
      "who       8.489291e+04    2.0  17.839152  2.535986e-08\n",
      "Residual  2.112906e+06  888.0        NaN           NaN\n",
      "Reject null hypothesis: the means are not equal (p-value = 0.0000)\n"
     ]
    }
   ],
   "source": [
    "import statsmodels.api as sm\n",
    "from statsmodels.formula.api import ols\n",
    "\n",
    "# Fit the OLS model\n",
    "model = ols(\"fare ~ who\", data=df).fit()\n",
    "\n",
    "# Perform ANOVA (Type II)\n",
    "anova_table = sm.stats.anova_lm(model, typ=2)\n",
    "print(anova_table)\n",
    "\n",
    "# Interpret the p-value\n",
    "p_value = anova_table[\"PR(>F)\"][\"who\"]\n",
    "if p_value < 0.05:\n",
    "    print(f\"Reject null hypothesis: the means are not equal (p-value = {p_value:.4f})\")\n",
    "else:\n",
    "    print(f\"Accept null hypothesis: no significant difference in means (p-value = {p_value:.4f})\")"
   ]
  },
  {
   "cell_type": "markdown",
   "id": "e1757920-4fe8-4c5c-a456-df98889c0471",
   "metadata": {},
   "source": [
    "## Two Way ANOVA"
   ]
  },
  {
   "cell_type": "code",
   "execution_count": 41,
   "id": "7ebf5677-191f-4386-be9e-50a085fd65d3",
   "metadata": {},
   "outputs": [
    {
     "name": "stdout",
     "output_type": "stream",
     "text": [
      "                      sum_sq     df           F        PR(>F)\n",
      "C(pclass)       5.866386e+05    2.0  190.743869  1.441521e-69\n",
      "C(who)          4.307607e+04    2.0   14.006062  1.027638e-06\n",
      "C(embark_town)  1.917970e+04    2.0    6.236225  2.044621e-03\n",
      "Residual        1.356309e+06  882.0         NaN           NaN\n",
      "Reject null hypothesis: the means are not equal (p-value = 0.0000)\n"
     ]
    }
   ],
   "source": [
    "import statsmodels.api as sm\n",
    "from statsmodels.formula.api import ols\n",
    "\n",
    "# Fit the OLS model\n",
    "model = ols(\"fare ~ C(pclass) + C(who) + C(embark_town)\", data=df).fit()\n",
    "\n",
    "# Perform ANOVA (Type II)\n",
    "anova_table = sm.stats.anova_lm(model, typ=2)\n",
    "print(anova_table)\n",
    "\n",
    "# Example: Get p-value for the 'class' factor\n",
    "p_value = anova_table.loc[\"C(pclass)\", \"PR(>F)\"]\n",
    "\n",
    "# Interpret the p-value\n",
    "if p_value < 0.05:\n",
    "    print(f\"Reject null hypothesis: the means are not equal (p-value = {p_value:.4f})\")\n",
    "else:\n",
    "    print(f\"Fail to reject null hypothesis: no significant difference in means (p-value = {p_value:.4f})\")\n"
   ]
  },
  {
   "cell_type": "markdown",
   "id": "6f876492-6ff4-4fff-85eb-81efcd2bd94a",
   "metadata": {},
   "source": [
    "## Post hoc Anova"
   ]
  },
  {
   "cell_type": "code",
   "execution_count": 42,
   "id": "38808a33-303b-4000-8007-c3b182b273a4",
   "metadata": {},
   "outputs": [
    {
     "name": "stdout",
     "output_type": "stream",
     "text": [
      " Multiple Comparison of Means - Tukey HSD, FWER=0.05 \n",
      "=====================================================\n",
      "group1 group2 meandiff p-adj   lower    upper  reject\n",
      "-----------------------------------------------------\n",
      " child    man  -7.9216 0.3535 -21.4279  5.5847  False\n",
      " child  woman  13.7849 0.0632  -0.5813 28.1512  False\n",
      "   man  woman  21.7065    0.0  13.1736 30.2395   True\n",
      "-----------------------------------------------------\n"
     ]
    }
   ],
   "source": [
    "from statsmodels.stats.multicomp import pairwise_tukeyhsd\n",
    "\n",
    "tukey = pairwise_tukeyhsd(df['fare'],df['who'])\n",
    "print(tukey)"
   ]
  },
  {
   "cell_type": "markdown",
   "id": "75af13eb-3ad8-4563-b047-4afca608bd2d",
   "metadata": {},
   "source": [
    "## Pearson's Correlation Coefficient"
   ]
  },
  {
   "cell_type": "code",
   "execution_count": 43,
   "id": "6fe6df24-8699-413f-8c67-0dd862c3a577",
   "metadata": {},
   "outputs": [
    {
     "name": "stdout",
     "output_type": "stream",
     "text": [
      "Pearson correlation :0.9958932064677039\n",
      "Highly Positive Correlation\n"
     ]
    }
   ],
   "source": [
    "def pearson(x,y):\n",
    "    x_mean = np.mean(x)\n",
    "    y_mean = np.mean(y)\n",
    "    x_std = np.std(x)\n",
    "    y_std = np.std(y)\n",
    "    n = len(x)\n",
    "    return sum((x-x_mean)*(y-y_mean))/(n* x_std * y_std)\n",
    "\n",
    "# dataset  \n",
    "x = np.array([1,2,3,4,5])\n",
    "y = np.array([1,4,6,8,10])\n",
    "\n",
    "print(f\"Pearson correlation :{pearson(x,y)}\")\n",
    "\n",
    "# print with if else:\n",
    "if pearson(x,y) < 0.6 > 0:\n",
    "    print(\"Positive correlation\")\n",
    "elif pearson(x,y) > 0.6:\n",
    "    print(\"Highly Positive Correlation\")\n",
    "elif pearson(x,y) > -0.6 < 0: \n",
    "    print(\"Negitive Correlation\")\n",
    "elif pearson(x,y) <-0.6:\n",
    "    print(\"Highly Negitive Correlation\")\n",
    "else:\n",
    "    print(\"No Correlation\")"
   ]
  },
  {
   "cell_type": "markdown",
   "id": "78d769aa-07b5-49e3-b350-05f4fe74dbcd",
   "metadata": {},
   "source": [
    "## SPearman's correlation cofficient"
   ]
  },
  {
   "cell_type": "code",
   "execution_count": 44,
   "id": "f970cda1-5b8f-443f-9b14-d0ad3a039dd9",
   "metadata": {},
   "outputs": [
    {
     "name": "stdout",
     "output_type": "stream",
     "text": [
      "Spearman correlation cofficient : 0.9999999999999998\n"
     ]
    }
   ],
   "source": [
    "def spearman(x,y):\n",
    "    x_rank = pd.Series(x).rank()\n",
    "    y_rank = pd.Series(y).rank()\n",
    "    return pearson(x_rank,y_rank)\n",
    "\n",
    "x = [10, 20, 30, 40, 50]\n",
    "y = [15, 25, 35, 45, 60]\n",
    "\n",
    "print(f\"Spearman correlation cofficient : {spearman(x,y)}\")\n",
    "    "
   ]
  },
  {
   "cell_type": "markdown",
   "id": "67cbf4b5-2c4c-4c7a-a332-333f5095f9b1",
   "metadata": {},
   "source": [
    "## Other Method to computes correlation"
   ]
  },
  {
   "cell_type": "code",
   "execution_count": 48,
   "id": "880aa619-4b14-4eb4-91a6-716cb4a89025",
   "metadata": {},
   "outputs": [
    {
     "name": "stdout",
     "output_type": "stream",
     "text": [
      "Pearson Correlation Coefficient: 0.9958932064677037\n"
     ]
    }
   ],
   "source": [
    "# dataset  with numpy\n",
    "x = np.array([1,2,3,4,5])\n",
    "y = np.array([1,4,6,8,10])\n",
    "\n",
    "pearson = np.corrcoef(x,y)\n",
    "\n",
    "print(f\"Pearson Correlation Coefficient: {pearson[0,1]}\")"
   ]
  },
  {
   "cell_type": "code",
   "execution_count": 50,
   "id": "d62bbab3-11d7-42f1-8c44-8f552bd7714c",
   "metadata": {},
   "outputs": [
    {
     "name": "stdout",
     "output_type": "stream",
     "text": [
      "Pearson Correlation (pandas): 0.9959\n"
     ]
    }
   ],
   "source": [
    "# dataset  with pandas\n",
    "\n",
    "x = pd.Series([1, 2, 3, 4, 5])\n",
    "y = pd.Series([1, 4, 6, 8, 10])\n",
    "\n",
    "pearsonpd = x.corr(y)\n",
    "print(f\"Pearson Correlation (pandas): {pearsonpd:.4f}\")"
   ]
  },
  {
   "cell_type": "code",
   "execution_count": 51,
   "id": "abafbec4-b3b4-4344-b9fb-b58ab28f25fb",
   "metadata": {},
   "outputs": [
    {
     "name": "stdout",
     "output_type": "stream",
     "text": [
      " Pearson Correlation Matrix:\n",
      "           x         y\n",
      "x  1.000000  0.995893\n",
      "y  0.995893  1.000000\n",
      "\n",
      " Spearman Correlation Matrix:\n",
      "      x    y\n",
      "x  1.0  1.0\n",
      "y  1.0  1.0\n",
      "\n",
      " Kendall Correlation Matrix:\n",
      "      x    y\n",
      "x  1.0  1.0\n",
      "y  1.0  1.0\n"
     ]
    }
   ],
   "source": [
    "# Create a DataFrame\n",
    "df = pd.DataFrame({\n",
    "    'x': [1, 2, 3, 4, 5],\n",
    "    'y': [1, 4, 6, 8, 10]\n",
    "})\n",
    "\n",
    "# Pearson correlation\n",
    "pearson_corr = df.corr(method='pearson')\n",
    "\n",
    "# Spearman correlation\n",
    "spearman_corr = df.corr(method='spearman')\n",
    "\n",
    "# Kendall correlation\n",
    "kendall_corr = df.corr(method='kendall')\n",
    "\n",
    "# Print results\n",
    "print(\" Pearson Correlation Matrix:\\n\", pearson_corr)\n",
    "print(\"\\n Spearman Correlation Matrix:\\n\", spearman_corr)\n",
    "print(\"\\n Kendall Correlation Matrix:\\n\", kendall_corr)"
   ]
  },
  {
   "cell_type": "code",
   "execution_count": null,
   "id": "9742c3b3-7269-4e40-840c-2f71b61eb289",
   "metadata": {},
   "outputs": [],
   "source": []
  }
 ],
 "metadata": {
  "kernelspec": {
   "display_name": "Python 3 (ipykernel)",
   "language": "python",
   "name": "python3"
  },
  "language_info": {
   "codemirror_mode": {
    "name": "ipython",
    "version": 3
   },
   "file_extension": ".py",
   "mimetype": "text/x-python",
   "name": "python",
   "nbconvert_exporter": "python",
   "pygments_lexer": "ipython3",
   "version": "3.12.2"
  }
 },
 "nbformat": 4,
 "nbformat_minor": 5
}
