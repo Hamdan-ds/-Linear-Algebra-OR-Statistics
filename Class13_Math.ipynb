{
 "cells": [
  {
   "cell_type": "code",
   "execution_count": 1,
   "id": "a7e27dfa-c7cd-4bad-b207-9d6691bfac19",
   "metadata": {},
   "outputs": [],
   "source": [
    "# Import necessary libraries\n",
    "import numpy as np\n",
    "import pandas as pd\n",
    "import matplotlib.pyplot as plt"
   ]
  },
  {
   "cell_type": "code",
   "execution_count": 2,
   "id": "98242aaa-cc7c-46fc-a058-77e74488ba2b",
   "metadata": {},
   "outputs": [
    {
     "data": {
      "text/plain": [
       "array([[2, 3],\n",
       "       [5, 7]])"
      ]
     },
     "execution_count": 2,
     "metadata": {},
     "output_type": "execute_result"
    }
   ],
   "source": [
    "# Coefficient matrix\n",
    "A = np.array([[2, 3], [5, 7]])\n",
    "A"
   ]
  },
  {
   "cell_type": "code",
   "execution_count": 3,
   "id": "bb09668f-87a2-4c62-bd69-0ad0343afb1c",
   "metadata": {},
   "outputs": [
    {
     "data": {
      "text/plain": [
       "array([3, 4])"
      ]
     },
     "execution_count": 3,
     "metadata": {},
     "output_type": "execute_result"
    }
   ],
   "source": [
    "#constant matrix\n",
    "\n",
    "B = np.array([3,4])\n",
    "B"
   ]
  },
  {
   "cell_type": "code",
   "execution_count": 4,
   "id": "9b0293bb-c5f2-4790-ac39-0f59f17c143c",
   "metadata": {},
   "outputs": [
    {
     "data": {
      "text/plain": [
       "array([-9.,  7.])"
      ]
     },
     "execution_count": 4,
     "metadata": {},
     "output_type": "execute_result"
    }
   ],
   "source": [
    "# Solve the system of equations\n",
    "x = np.linalg.solve(A, B)\n",
    "x"
   ]
  },
  {
   "cell_type": "markdown",
   "id": "e031b755-92c2-4d21-b9d7-01a90308f079",
   "metadata": {},
   "source": [
    "## solving complex equations"
   ]
  },
  {
   "cell_type": "code",
   "execution_count": 5,
   "id": "5456064d-1743-43b3-a01b-c72f19404325",
   "metadata": {},
   "outputs": [
    {
     "data": {
      "text/plain": [
       "array([-0.11176471-0.45294118j,  0.94705882+1.31176471j])"
      ]
     },
     "execution_count": 5,
     "metadata": {},
     "output_type": "execute_result"
    }
   ],
   "source": [
    "# Complex numbers\n",
    "A_complex = np.array([[1+2j, 2-1j], [3-1j, 4]])\n",
    "B_complex = np.array([4+1j, 3+4j])\n",
    "\n",
    "x_complex = np.linalg.solve(A_complex, B_complex)\n",
    "x_complex"
   ]
  },
  {
   "cell_type": "code",
   "execution_count": 6,
   "id": "e97c0d74-f1d8-4d05-b5af-16c9580afe6d",
   "metadata": {},
   "outputs": [
    {
     "data": {
      "text/plain": [
       "array([[0.79249155, 0.54135791, 0.11395759],\n",
       "       [0.81809142, 0.15426616, 0.34460413],\n",
       "       [0.39292994, 0.56534137, 0.65938852],\n",
       "       [0.88547916, 0.28504418, 0.432038  ]])"
      ]
     },
     "execution_count": 6,
     "metadata": {},
     "output_type": "execute_result"
    }
   ],
   "source": [
    "A = np.random.rand(4,3)\n",
    "A"
   ]
  },
  {
   "cell_type": "code",
   "execution_count": 7,
   "id": "cbfe6104-5f1d-43d8-9eab-ed279462736a",
   "metadata": {},
   "outputs": [
    {
     "name": "stdout",
     "output_type": "stream",
     "text": [
      "U matrix  [[-0.50215736 -0.25835712  0.82220668 -0.07117415]\n",
      " [-0.47744126 -0.34425368 -0.45746513 -0.66653199]\n",
      " [-0.45701415  0.88133989 -0.01250349 -0.11925486]\n",
      " [-0.55769695 -0.19488714 -0.3384457   0.73242585]]\n",
      "------------------------------------------------------------\n",
      "Sigma matrix  [1.81741251 0.53087201 0.34912215]\n",
      "------------------------------------------------------------\n",
      "Vt matrix  [[-0.80441267 -0.41973804 -0.42040485]\n",
      " [-0.58891875  0.47042618  0.65717115]\n",
      " [-0.07807028  0.77622109 -0.62560838]]\n"
     ]
    }
   ],
   "source": [
    "#lets apply SVD here\n",
    "U ,sigma ,Vt  = np.linalg.svd(A)\n",
    "\n",
    "# print(f\" Value of U :{U} and Value of sigma :{sigma} and value of v transpose : {Vt}\")\n",
    "\n",
    "print(\"U matrix \",U)\n",
    "print(\"---\"*20)\n",
    "print(\"Sigma matrix \",sigma)\n",
    "print(\"---\"*20)\n",
    "print(\"Vt matrix \",Vt)\n"
   ]
  },
  {
   "cell_type": "markdown",
   "id": "dcd70a1b",
   "metadata": {},
   "source": [
    "## Vector in python"
   ]
  },
  {
   "cell_type": "code",
   "execution_count": 9,
   "id": "46aec2a2-c49d-4c15-a196-d73bbcd99735",
   "metadata": {},
   "outputs": [
    {
     "data": {
      "image/png": "[encoded data removed]",
      "text/plain": [
       "<Figure size 640x480 with 1 Axes>"
      ]
     },
     "metadata": {},
     "output_type": "display_data"
    }
   ],
   "source": [
    "a = np.array([2,3])\n",
    "\n",
    "plt.quiver(0,0,a[0], a[1], angles='xy', scale_units='xy',scale=1)\n",
    "plt.xlim(0,5)\n",
    "plt.ylim(0,5)\n",
    "plt.grid()\n",
    "# plt.gca().set_aspect('equal',adjustable='box')\n",
    "plt.show()"
   ]
  },
  {
   "cell_type": "code",
   "execution_count": null,
   "id": "42bf3435-c510-4b52-9c11-304711fee9d4",
   "metadata": {},
   "outputs": [
    {
     "name": "stdout",
     "output_type": "stream",
     "text": [
      "[[ 0.70710678 -0.70710678]\n",
      " [ 0.70710678  0.70710678]]\n",
      "------------------------------------------------------------\n"
     ]
    },
    {
     "data": {
      "text/plain": [
       "array([-0.70710678,  3.53553391])"
      ]
     },
     "execution_count": 10,
     "metadata": {},
     "output_type": "execute_result"
    }
   ],
   "source": [
    "# Rotation matrix for 45 degrees\n",
    "theta = np.radians(45)\n",
    "r_matrix = np.array([[np.cos(theta), -np.sin(theta)],\n",
    "                    [np.sin(theta), np.cos(theta)]])\n",
    "print(r_matrix)\n",
    "print(\"---\"*20)\n",
    "a_transformed = np.dot(r_matrix,a)\n",
    "a_transformed"
   ]
  },
  {
   "cell_type": "code",
   "execution_count": null,
   "id": "aa0f12fe-305b-4995-b6cf-1bb79e7be64e",
   "metadata": {},
   "outputs": [],
   "source": []
  }
 ],
 "metadata": {
  "kernelspec": {
   "display_name": "Python 3",
   "language": "python",
   "name": "python3"
  },
  "language_info": {
   "codemirror_mode": {
    "name": "ipython",
    "version": 3
   },
   "file_extension": ".py",
   "mimetype": "text/x-python",
   "name": "python",
   "nbconvert_exporter": "python",
   "pygments_lexer": "ipython3",
   "version": "3.12.2"
  }
 },
 "nbformat": 4,
 "nbformat_minor": 5
}
